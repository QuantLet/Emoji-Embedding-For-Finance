{
 "cells": [
  {
   "cell_type": "code",
   "execution_count": 4,
   "metadata": {},
   "outputs": [],
   "source": [
    "import pandas as pd\n",
    "import matplotlib.pyplot as plt\n",
    "import numpy as np"
   ]
  },
  {
   "cell_type": "code",
   "execution_count": 11,
   "metadata": {},
   "outputs": [
    {
     "data": {
      "image/png": "[encoded data removed]",
      "text/plain": [
       "<Figure size 432x288 with 1 Axes>"
      ]
     },
     "metadata": {
      "needs_background": "light"
     },
     "output_type": "display_data"
    }
   ],
   "source": [
    "df_top_sorted = pd.read_csv(\"top5_emoji_cal.csv\")\n",
    "plt.bar(np.arange(15),list(df_top_sorted['count'])[:15],color = 'blue')\n",
    "plt.xticks([],[])\n",
    "plt.title(\"top 15 most frequent emojis in top 5 tweets\")\n",
    "plt.savefig(\"top5.png\",transparent = True)"
   ]
  },
  {
   "cell_type": "code",
   "execution_count": 6,
   "metadata": {},
   "outputs": [
    {
     "name": "stdout",
     "output_type": "stream",
     "text": [
      "['😂', '🚀', '😉', '👍', '📈', '🧠', '🙏', '😎', '🤔', '👀', '🔥', '😁', '😀', '😊', '🤣']\n"
     ]
    }
   ],
   "source": [
    "print(list(df_top_sorted['emoji']))"
   ]
  },
  {
   "cell_type": "code",
   "execution_count": 7,
   "metadata": {},
   "outputs": [],
   "source": [
    "df_low_sorted = pd.read_csv(\"low5_emoji_cal.csv\")"
   ]
  },
  {
   "cell_type": "code",
   "execution_count": 8,
   "metadata": {},
   "outputs": [
    {
     "data": {
      "text/plain": [
       "['💚', '📢', '📉', '😂', '👉', '👊', '🔴', '💥', '💸', '🚨', '🔄', '🔻', '👇', '💼', '🎰']"
      ]
     },
     "execution_count": 8,
     "metadata": {},
     "output_type": "execute_result"
    }
   ],
   "source": [
    "list(df_low_sorted['emoji'])"
   ]
  },
  {
   "cell_type": "code",
   "execution_count": 12,
   "metadata": {},
   "outputs": [
    {
     "data": {
      "image/png": "[encoded data removed]",
      "text/plain": [
       "<Figure size 432x288 with 1 Axes>"
      ]
     },
     "metadata": {
      "needs_background": "light"
     },
     "output_type": "display_data"
    }
   ],
   "source": [
    "plt.bar(np.arange(15),list(df_low_sorted['count']),color = 'blue')\n",
    "plt.xticks([],[])\n",
    "plt.title(\"top 15 most frequent emojis in low 5 tweets\")\n",
    "plt.savefig(\"bottom5.png\",transparent = True)"
   ]
  }
 ],
 "metadata": {
  "kernelspec": {
   "display_name": "base",
   "language": "python",
   "name": "python3"
  },
  "language_info": {
   "codemirror_mode": {
    "name": "ipython",
    "version": 3
   },
   "file_extension": ".py",
   "mimetype": "text/x-python",
   "name": "python",
   "nbconvert_exporter": "python",
   "pygments_lexer": "ipython3",
   "version": "3.8.5"
  }
 },
 "nbformat": 4,
 "nbformat_minor": 2
}
