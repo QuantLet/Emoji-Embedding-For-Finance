{
 "cells": [
  {
   "cell_type": "code",
   "execution_count": 2,
   "metadata": {},
   "outputs": [
    {
     "name": "stderr",
     "output_type": "stream",
     "text": [
      "/Users/xrz/opt/anaconda3/lib/python3.8/site-packages/pandas/core/computation/expressions.py:20: UserWarning: Pandas requires version '2.7.3' or newer of 'numexpr' (version '2.7.1' currently installed).\n",
      "  from pandas.core.computation.check import NUMEXPR_INSTALLED\n"
     ]
    }
   ],
   "source": [
    "import pandas as pd"
   ]
  },
  {
   "cell_type": "code",
   "execution_count": 3,
   "metadata": {},
   "outputs": [],
   "source": [
    "df_all = pd.read_csv(\"emoji_text_0.csv\")"
   ]
  },
  {
   "cell_type": "code",
   "execution_count": 4,
   "metadata": {},
   "outputs": [
    {
     "data": {
      "text/html": [
       "<div>\n",
       "<style scoped>\n",
       "    .dataframe tbody tr th:only-of-type {\n",
       "        vertical-align: middle;\n",
       "    }\n",
       "\n",
       "    .dataframe tbody tr th {\n",
       "        vertical-align: top;\n",
       "    }\n",
       "\n",
       "    .dataframe thead th {\n",
       "        text-align: right;\n",
       "    }\n",
       "</style>\n",
       "<table border=\"1\" class=\"dataframe\">\n",
       "  <thead>\n",
       "    <tr style=\"text-align: right;\">\n",
       "      <th></th>\n",
       "      <th>Unnamed: 0</th>\n",
       "      <th>time</th>\n",
       "      <th>text</th>\n",
       "    </tr>\n",
       "  </thead>\n",
       "  <tbody>\n",
       "    <tr>\n",
       "      <th>0</th>\n",
       "      <td>0</td>\n",
       "      <td>2024-01-21 09:52:25+00:00</td>\n",
       "      <td>🚨Get ready for a game-changer!\\n\\n🗓️On January...</td>\n",
       "    </tr>\n",
       "    <tr>\n",
       "      <th>1</th>\n",
       "      <td>1</td>\n",
       "      <td>2024-01-21 08:38:10+00:00</td>\n",
       "      <td>@pi2team @CoinMarketCap @ice_z3us @ice_th0r We...</td>\n",
       "    </tr>\n",
       "    <tr>\n",
       "      <th>2</th>\n",
       "      <td>2</td>\n",
       "      <td>2024-01-21 07:00:01+00:00</td>\n",
       "      <td>🚨 US$10,000 $SEI App Campaign ends today 🚨\\n\\n...</td>\n",
       "    </tr>\n",
       "    <tr>\n",
       "      <th>3</th>\n",
       "      <td>3</td>\n",
       "      <td>2024-01-21 06:10:49+00:00</td>\n",
       "      <td>#Crypto Weekly Stats 📊\\n\\nWatchlist:\\n$BTC  ↓\\...</td>\n",
       "    </tr>\n",
       "    <tr>\n",
       "      <th>4</th>\n",
       "      <td>4</td>\n",
       "      <td>2024-01-20 22:00:01+00:00</td>\n",
       "      <td>Fit check\\n📸: @CsillaCRO https://t.co/1BQjfOUVK5</td>\n",
       "    </tr>\n",
       "    <tr>\n",
       "      <th>...</th>\n",
       "      <td>...</td>\n",
       "      <td>...</td>\n",
       "      <td>...</td>\n",
       "    </tr>\n",
       "    <tr>\n",
       "      <th>13009</th>\n",
       "      <td>13009</td>\n",
       "      <td>2024-01-23 20:17:08+00:00</td>\n",
       "      <td>@bubblemaps Really nice to see a balanced thre...</td>\n",
       "    </tr>\n",
       "    <tr>\n",
       "      <th>13010</th>\n",
       "      <td>13010</td>\n",
       "      <td>2024-01-23 20:14:53+00:00</td>\n",
       "      <td>#Bitcoin has arrived at the range low. \\n\\nHit...</td>\n",
       "    </tr>\n",
       "    <tr>\n",
       "      <th>13011</th>\n",
       "      <td>13011</td>\n",
       "      <td>2024-01-23 19:45:42+00:00</td>\n",
       "      <td>@Very_Finance They literally won't because it'...</td>\n",
       "    </tr>\n",
       "    <tr>\n",
       "      <th>13012</th>\n",
       "      <td>13012</td>\n",
       "      <td>2024-01-23 18:00:22+00:00</td>\n",
       "      <td>@CryptoDegenDude @satoshivm If you don't take ...</td>\n",
       "    </tr>\n",
       "    <tr>\n",
       "      <th>13013</th>\n",
       "      <td>13013</td>\n",
       "      <td>2024-01-23 17:51:23+00:00</td>\n",
       "      <td>And another\\nhttps://t.co/fxZhNQQU9W</td>\n",
       "    </tr>\n",
       "  </tbody>\n",
       "</table>\n",
       "<p>13014 rows × 3 columns</p>\n",
       "</div>"
      ],
      "text/plain": [
       "       Unnamed: 0                       time  \\\n",
       "0               0  2024-01-21 09:52:25+00:00   \n",
       "1               1  2024-01-21 08:38:10+00:00   \n",
       "2               2  2024-01-21 07:00:01+00:00   \n",
       "3               3  2024-01-21 06:10:49+00:00   \n",
       "4               4  2024-01-20 22:00:01+00:00   \n",
       "...           ...                        ...   \n",
       "13009       13009  2024-01-23 20:17:08+00:00   \n",
       "13010       13010  2024-01-23 20:14:53+00:00   \n",
       "13011       13011  2024-01-23 19:45:42+00:00   \n",
       "13012       13012  2024-01-23 18:00:22+00:00   \n",
       "13013       13013  2024-01-23 17:51:23+00:00   \n",
       "\n",
       "                                                    text  \n",
       "0      🚨Get ready for a game-changer!\\n\\n🗓️On January...  \n",
       "1      @pi2team @CoinMarketCap @ice_z3us @ice_th0r We...  \n",
       "2      🚨 US$10,000 $SEI App Campaign ends today 🚨\\n\\n...  \n",
       "3      #Crypto Weekly Stats 📊\\n\\nWatchlist:\\n$BTC  ↓\\...  \n",
       "4       Fit check\\n📸: @CsillaCRO https://t.co/1BQjfOUVK5  \n",
       "...                                                  ...  \n",
       "13009  @bubblemaps Really nice to see a balanced thre...  \n",
       "13010  #Bitcoin has arrived at the range low. \\n\\nHit...  \n",
       "13011  @Very_Finance They literally won't because it'...  \n",
       "13012  @CryptoDegenDude @satoshivm If you don't take ...  \n",
       "13013               And another\\nhttps://t.co/fxZhNQQU9W  \n",
       "\n",
       "[13014 rows x 3 columns]"
      ]
     },
     "execution_count": 4,
     "metadata": {},
     "output_type": "execute_result"
    }
   ],
   "source": [
    "df_all"
   ]
  },
  {
   "cell_type": "code",
   "execution_count": 5,
   "metadata": {},
   "outputs": [],
   "source": [
    "example_list = list(df_all['text'])"
   ]
  },
  {
   "cell_type": "code",
   "execution_count": 6,
   "metadata": {},
   "outputs": [
    {
     "name": "stdout",
     "output_type": "stream",
     "text": [
      "{'🚨': 323, '🗓': 41, '🌟': 63, '👉': 286, '📊': 124, '📸': 21, '📈': 258, '💤': 3, '🏻': 127, '🟦': 19, '🟫': 11, '😂': 237, '🔀': 1, '🏆': 613, '📉': 100, '🖼': 6, '💪': 61, '🔥': 1540, '🔔': 109, '🚀': 1277, '👇': 691, '💳': 5, '🔋': 1, '💷': 9, '🏦': 9, '🤝': 332, '🎉': 174, '🤖': 27, '😎': 49, '📱': 7, '💵': 25, '\\U0001f90c': 7, '🖋': 1, '🔒': 16, '📆': 12, '🕓': 5, '💰': 171, '📌': 276, '🔄': 12, '🎮': 11, '🤔': 81, '💡': 24, '💱': 6, '🧑': 15, '😌': 5, '😱': 15, '💸': 56, '🌱': 46, '💌': 82, '💀': 4, '🤦': 5, '🧐': 28, '🥶': 1, '🦍': 29, '📢': 36, '🎁': 244, '\\U0001f979': 9, '🖤': 7, '👀': 504, '🏒': 4, '📍': 13, '📺': 8, '🎧': 6, '👑': 47, '🦾': 22, '🥇': 11, '🥈': 1, '🥉': 1, '🏅': 17, '🌾': 15, '💥': 190, '🤯': 53, '🏪': 1, '🔟': 3, '🕗': 2, '💻': 15, '📻': 2, '🗳': 1, '🌌': 10, '🎟': 7, '👊': 23, '🔗': 22, '🥁': 2, '🎯': 59, '🤣': 126, '🤙': 10, '😏': 9, '🤞': 15, '😔': 2, '😭': 35, '🦄': 14, '🤑': 58, '🥳': 246, '🧵': 39, '\\U0001faa1': 1, '🍄': 4, '🎊': 27, '🌐': 44, '\\U0001fae1': 72, '🧹': 1, '🦨': 1, '🍀': 57, '🐼': 197, '💞': 10, '💚': 26, '👋': 87, '💎': 246, '🙏': 161, '🌸': 11, '🎆': 6, '💹': 97, '💫': 27, '🏙': 1, '🛡': 24, '🧊': 53, '💙': 28, '🔶': 7, '👌': 38, '🥰': 56, '😍': 56, '🎥': 6, '📬': 17, '📨': 237, '📥': 194, '🤩': 67, '📩': 198, '🐲': 28, '🖨': 3, '😊': 47, '😅': 20, '🦊': 2, '🌥': 1, '🐓': 1, '🔫': 2, '🔮': 7, '🧙': 1, '🏼': 61, '👻': 6, '🐱': 7, '💖': 20, '\\U0001fab7': 1, '🍒': 90, '🪐': 7, '😘': 21, '🐾': 3, '🐶': 12, '📡': 1, '🗺': 4, '🌎': 3, '😉': 15, '👏': 152, '🐸': 4, '🌍': 10, '🍭': 11, '🍨': 1, '🌰': 1, '🍠': 1, '🥞': 2, '🌭': 1, '🐨': 3, '🐘': 3, '🐻': 7, '\\U0001faf4': 2, '🐦': 1, '🤍': 6, '👎': 2, '🐒': 11, '🍐': 1, '🌿': 2, '🍈': 1, '🥝': 1, '🍇': 1, '\\U0001fad0': 6, '🍓': 1, '😞': 1, '📣': 20, '🔹': 95, '🌠': 5, '👍': 68, '💯': 72, '🧡': 22, '😝': 8, '😒': 4, '🥴': 1, '🤨': 3, '😵': 3, '😆': 8, '👆': 2, '🏽': 40, '😤': 5, '🍂': 3, '🐰': 43, '🖌': 1, '🏎': 5, '🏁': 3, '🔁': 3, '📅': 12, '🔊': 6, '🔴': 21, '🔵': 4, '💁': 8, '🙌': 48, '📝': 10, '🦖': 1, '🎓': 1, '📄': 4, '🪔': 2, '🛕': 1, '🟢': 17, '🤜': 8, '🤛': 8, '🦁': 16, '\\U0001f972': 6, '😄': 7, '🪑': 1, '🌋': 1, '🔌': 1, '🗽': 1, '😀': 10, '🌙': 10, '🐂': 19, '🤘': 4, '🔐': 6, '🚉': 1, '\\U0001faf0': 3, '😃': 14, '🧢': 3, '📷': 29, '🎶': 6, '\\U0001faf6': 58, '🤏': 2, '🙋': 14, '🤗': 11, '🤤': 2, '🔸': 86, '🌼': 1, '🎖': 12, '🟠': 6, '💛': 38, '💝': 4, '😇': 7, '🧠': 13, '🚫': 2, '😴': 7, '🌹': 1, '🥺': 7, '🙂': 24, '🕺': 1, '🚧': 4, '🛠': 4, '🔛': 2, '🟡': 5, '💜': 56, '🕸': 3, '🐝': 8, '🐥': 2, '🌷': 5, '💲': 33, '🍣': 21, '🦋': 11, '\\U0001fa99': 7, '🦏': 3, '🌻': 3, '😛': 4, '🎳': 2, '🎭': 4, '🎙': 6, '🎤': 3, '🐳': 5, '🌈': 2, '🌏': 4, '🙈': 5, '🍫': 2, '\\U0001fae3': 9, '🖱': 2, '💴': 9, '💶': 7, '🖥': 4, '🔘': 44, '🕰': 4, '🐮': 5, '👺': 1, '🌺': 2, '🏯': 2, '🍥': 4, '🚗': 6, '🚙': 6, '🚕': 2, '🛺': 2, '🕒': 1, '🎬': 3, '🔜': 6, '😢': 2, '👮': 1, '🪂': 26, '💬': 8, '\\U0001fa9f': 1, '📲': 5, '🌊': 6, '🤷': 6, '🏿': 3, '😯': 1, '😜': 6, '\\U0001fa9e': 1, '👽': 6, '🛸': 2, '🥊': 5, '👾': 8, '🟣': 3, '😁': 13, '🥂': 7, '🚜': 3, '🌽': 2, '💨': 3, '🥵': 1, '🤲': 2, '💭': 4, '🏾': 9, '🤫': 5, '\\U0001faf5': 11, '\\U0001faf3': 2, '🐈': 1, '🟩': 1, '💼': 8, '🕹': 7, '🎲': 3, '🔎': 8, '🔻': 6, '🌴': 47, '🐕': 1, '🧬': 1, '🏄': 2, '🍻': 2, '🌲': 3, '🔑': 5, '💍': 1, '🚂': 2, '🟧': 3, '🎫': 1, '🕊': 6, '\\U0001faa9': 3, '🖕': 1, '📋': 1, '🛑': 20, '🧧': 1, '🎰': 3, '💩': 4, '🏃': 6, '🕯': 1, '🧨': 4, '🌕': 8, '\\U0001f978': 1, '\\U0001fa75': 1, '🤪': 1, '🌞': 4, '📖': 1, '🎄': 6, '🐐': 4, '🗣': 5, '😳': 11, '🍾': 3, '👈': 8, '🎅': 2, '\\U0001fa77': 3, '🏵': 4, '🤺': 1, '🛒': 1, '😪': 2, '🌅': 24, '🔓': 1, '🏛': 2, '🚪': 1, '🤢': 1, '🥤': 1, '💐': 1, '\\U0001fab4': 2, '😻': 8, '\\U0001fabf': 1, '🧸': 2, '😽': 3, '💕': 19, '\\U0001fa87': 1, '🎂': 4, '🍰': 1, '🏑': 1, '🍆': 1, '🤮': 1, '\\U0001fa84': 1, '🙃': 1, '🔍': 5, '🧲': 1, '🏍': 1, '👨': 5, '🔧': 3, '🔝': 6, '🍑': 4, '🎃': 4, '📒': 1, '🐺': 11, '🌖': 2, '😮': 1, '\\U0001fa96': 2, '🥑': 3, '🌳': 2, '📚': 8, '🗞': 19, '🐬': 5, '🤡': 1, '😈': 4, '🦉': 2, '🧀': 2, '💟': 6, '🕵': 1, '🍪': 1, '🔷': 42, '👐': 1, '🌝': 1, '🏀': 1, '🐚': 2, '\\U0001fab8': 2, '🍷': 2, '💃': 3, '🥥': 1, '\\U0001fae0': 1, '🌮': 2, '🤵': 2, '👯': 2, '🐟': 3, '🛢': 8, '🦿': 1, '\\U0001fac0': 1, '\\U0001fac1': 1, '🦷': 1, '🌯': 1, '🦴': 1, '🚦': 1, '👶': 1, '👧': 1, '💮': 3, '💿': 1, '🍵': 1, '🦳': 1, '👱': 1, '🥏': 1, '🥗': 1, '🧓': 1, '🐆': 1, '🙆': 1, '\\U0001fac2': 1, '🧏': 1, '🙇': 2, '🌤': 1, '🐫': 2, '🦙': 4, '🦛': 2, '🙀': 1, '🐡': 1, '🦧': 1, '🤟': 1, '📯': 2, '🎠': 2, '🔆': 1, '🌑': 8, '🧤': 1, '🥪': 1, '🐄': 2, '🐅': 2, '🐃': 2, '🔯': 1, '📰': 11, '👩': 2, '🐎': 1, '🤭': 4, '😲': 7, '🛎': 25, '📃': 1, '🗿': 1, '🐋': 2, '🗨': 1, '💧': 4, '💦': 3, '🍃': 2, '\\U0001f977': 19, '🖇': 2, '👥': 2, '🚁': 1, '\\U0001faa8': 1, '🎣': 1, '🦸': 1, '🦀': 2, '🥩': 2, '🎇': 1, '🎨': 1, '🔽': 5, '💗': 1, '💢': 4, '🐇': 1, '😐': 1, '🌪': 2, '📎': 1, '😥': 1, '🐉': 2, '🐣': 1, '🐵': 1, '🔰': 2, '\\U0001fae4': 1, '😋': 3, '🧪': 1, '💠': 1, '🗝': 1, '🔖': 2, '🌄': 1, '🐔': 2, '🍯': 1, '😡': 1, '🏝': 2, '📤': 1, '🎢': 1, '🍳': 1, '🎀': 8, '🚩': 1, '🕛': 2, '🧚': 4, '🤓': 1, '📑': 1}\n"
     ]
    }
   ],
   "source": [
    "def is_emoji(s):\n",
    "    # Check if a character is an emoji based on Unicode ranges\n",
    "    return ('\\U0001F300' <= s <= '\\U0001F5FF' or\n",
    "            '\\U0001F600' <= s <= '\\U0001F64F' or\n",
    "            '\\U0001F680' <= s <= '\\U0001F6FF' or\n",
    "            '\\U0001F700' <= s <= '\\U0001F77F' or\n",
    "            '\\U0001F780' <= s <= '\\U0001F7FF' or\n",
    "            '\\U0001F800' <= s <= '\\U0001F8FF' or\n",
    "            '\\U0001F900' <= s <= '\\U0001F9FF' or\n",
    "            '\\U0001FA00' <= s <= '\\U0001FA6F' or\n",
    "            '\\U0001FA70' <= s <= '\\U0001FAFF')\n",
    "\n",
    "def extract_and_count_emojis(string_list):\n",
    "    emoji_count = {}\n",
    "    for text in string_list:\n",
    "        try:\n",
    "            for char in text:\n",
    "                if is_emoji(char):\n",
    "                    emoji_count[char] = emoji_count.get(char, 0) + 1\n",
    "        except:\n",
    "            continue\n",
    "    return emoji_count\n",
    "\n",
    "# Example usage\n",
    "#example_list = [\"Hello 👋\", \"I love Python 🐍\", \"Happy coding! 😊👩‍💻\"]\n",
    "emoji_counts = extract_and_count_emojis(example_list)\n",
    "print(emoji_counts)\n"
   ]
  },
  {
   "cell_type": "code",
   "execution_count": 7,
   "metadata": {},
   "outputs": [],
   "source": [
    "sorted_emoji_counts = dict(sorted(emoji_counts.items(), key=lambda item: item[1], reverse=True))"
   ]
  },
  {
   "cell_type": "code",
   "execution_count": 8,
   "metadata": {},
   "outputs": [],
   "source": [
    "import matplotlib.pyplot as plt"
   ]
  },
  {
   "cell_type": "code",
   "execution_count": 9,
   "metadata": {},
   "outputs": [
    {
     "data": {
      "image/png": "[encoded data removed]",
      "text/plain": [
       "<Figure size 720x432 with 1 Axes>"
      ]
     },
     "metadata": {
      "needs_background": "light"
     },
     "output_type": "display_data"
    }
   ],
   "source": [
    "df = pd.DataFrame(list(sorted_emoji_counts.items()), columns=['Emoji', 'Count'])\n",
    "# Plotting\n",
    "plt.figure(figsize=(10, 6))\n",
    "plt.bar(df['Emoji'].iloc[:20], df['Count'].iloc[:20], color='blue')\n",
    "plt.xlabel('Emoji')\n",
    "plt.ylabel('Count')\n",
    "plt.title('Emoji Counts in Strings')\n",
    "plt.xticks([],[])\n",
    "plt.savefig(\"BTCEmojiCount.png\", transparent = True)\n",
    "plt.show()"
   ]
  }
 ],
 "metadata": {
  "kernelspec": {
   "display_name": "base",
   "language": "python",
   "name": "python3"
  },
  "language_info": {
   "codemirror_mode": {
    "name": "ipython",
    "version": 3
   },
   "file_extension": ".py",
   "mimetype": "text/x-python",
   "name": "python",
   "nbconvert_exporter": "python",
   "pygments_lexer": "ipython3",
   "version": "3.8.5"
  }
 },
 "nbformat": 4,
 "nbformat_minor": 2
}
